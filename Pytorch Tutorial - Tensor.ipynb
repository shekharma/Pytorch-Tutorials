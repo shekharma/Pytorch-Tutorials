{
 "cells": [
  {
   "cell_type": "code",
   "execution_count": 4,
   "id": "fab5aa3e",
   "metadata": {},
   "outputs": [],
   "source": [
    "import torch\n",
    "import numpy as np"
   ]
  },
  {
   "cell_type": "code",
   "execution_count": 5,
   "id": "77550fd8",
   "metadata": {},
   "outputs": [
    {
     "name": "stdout",
     "output_type": "stream",
     "text": [
      "torch.float16\n",
      "<built-in method size of Tensor object at 0x00000259BAA9B250>\n",
      "tensor([[1., 1.],\n",
      "        [1., 1.]], dtype=torch.float16)\n"
     ]
    }
   ],
   "source": [
    "\n",
    "x=torch.empty(2,3)\n",
    "x=torch.ones(1,3)\n",
    "x=torch.rand(1,3)\n",
    "x=torch.ones(2,2,dtype=torch.float16)\n",
    "print(x.dtype)\n",
    "print(x.size)\n",
    "print(x)"
   ]
  },
  {
   "cell_type": "code",
   "execution_count": 6,
   "id": "1de4f47a",
   "metadata": {},
   "outputs": [
    {
     "name": "stdout",
     "output_type": "stream",
     "text": [
      "tensor([2.5000, 0.1000])\n"
     ]
    }
   ],
   "source": [
    "x=torch.tensor([2.5,0.1])\n",
    "print(x)"
   ]
  },
  {
   "cell_type": "code",
   "execution_count": 5,
   "id": "6a246c09",
   "metadata": {},
   "outputs": [
    {
     "name": "stdout",
     "output_type": "stream",
     "text": [
      "tensor([[0.6638, 0.5161],\n",
      "        [0.6118, 0.0075]])\n"
     ]
    }
   ],
   "source": [
    "x=torch.rand(2,2)\n",
    "print(x)"
   ]
  },
  {
   "cell_type": "code",
   "execution_count": 7,
   "id": "a2fb4f56",
   "metadata": {},
   "outputs": [
    {
     "name": "stdout",
     "output_type": "stream",
     "text": [
      "tensor([[0.6022, 0.3480],\n",
      "        [0.1463, 0.6963]])\n"
     ]
    }
   ],
   "source": [
    "y=torch.rand(2,2)\n",
    "print(y)"
   ]
  },
  {
   "cell_type": "code",
   "execution_count": 8,
   "id": "ee574019",
   "metadata": {},
   "outputs": [
    {
     "name": "stdout",
     "output_type": "stream",
     "text": [
      "tensor([[1.2660, 0.8641],\n",
      "        [0.7581, 0.7038]])\n"
     ]
    }
   ],
   "source": [
    "print(x+y)"
   ]
  },
  {
   "cell_type": "code",
   "execution_count": 9,
   "id": "db13c1b7",
   "metadata": {},
   "outputs": [
    {
     "name": "stdout",
     "output_type": "stream",
     "text": [
      "tensor([[1.2660, 0.8641],\n",
      "        [0.7581, 0.7038]])\n"
     ]
    }
   ],
   "source": [
    "y.add_(x)\n",
    "print(y)"
   ]
  },
  {
   "cell_type": "code",
   "execution_count": 10,
   "id": "a40abc15",
   "metadata": {},
   "outputs": [
    {
     "name": "stdout",
     "output_type": "stream",
     "text": [
      "tensor([[0.5243, 0.5973],\n",
      "        [0.8070, 0.0107]])\n"
     ]
    }
   ],
   "source": [
    "z=torch.div(x,y)\n",
    "print(z)"
   ]
  },
  {
   "cell_type": "markdown",
   "id": "52ad8464",
   "metadata": {},
   "source": [
    "Slicing "
   ]
  },
  {
   "cell_type": "code",
   "execution_count": 11,
   "id": "abb55b91",
   "metadata": {},
   "outputs": [
    {
     "name": "stdout",
     "output_type": "stream",
     "text": [
      "tensor([[0.5352, 0.5282, 0.7567],\n",
      "        [0.5393, 0.4702, 0.5244],\n",
      "        [0.4645, 0.9008, 0.0695],\n",
      "        [0.7435, 0.6389, 0.3599],\n",
      "        [0.5760, 0.9261, 0.8692]])\n"
     ]
    }
   ],
   "source": [
    "x=torch.rand(5,3)\n",
    "print(x)"
   ]
  },
  {
   "cell_type": "code",
   "execution_count": 12,
   "id": "7ba89d06",
   "metadata": {},
   "outputs": [
    {
     "name": "stdout",
     "output_type": "stream",
     "text": [
      "tensor([0.5282, 0.4702, 0.9008, 0.6389, 0.9261])\n"
     ]
    }
   ],
   "source": [
    "###printing all rosw of column one\n",
    "print(x[:,1])"
   ]
  },
  {
   "cell_type": "code",
   "execution_count": 13,
   "id": "da94732d",
   "metadata": {},
   "outputs": [
    {
     "name": "stdout",
     "output_type": "stream",
     "text": [
      "tensor([0.5352, 0.5282, 0.7567])\n"
     ]
    }
   ],
   "source": [
    "### printing all columns of rows zero\n",
    "print(x[0,:])"
   ]
  },
  {
   "cell_type": "markdown",
   "id": "87e45cd8",
   "metadata": {},
   "source": [
    "Coverting multidimensions to one dimension array"
   ]
  },
  {
   "cell_type": "code",
   "execution_count": 16,
   "id": "5c27aa9e",
   "metadata": {},
   "outputs": [
    {
     "name": "stdout",
     "output_type": "stream",
     "text": [
      "tensor([[0.8527, 0.7824, 0.4195, 0.9837],\n",
      "        [0.0631, 0.4299, 0.9648, 0.8929],\n",
      "        [0.6023, 0.5201, 0.3593, 0.6202],\n",
      "        [0.0876, 0.5566, 0.8535, 0.0599]])\n",
      "tensor([0.8527, 0.7824, 0.4195, 0.9837, 0.0631, 0.4299, 0.9648, 0.8929, 0.6023,\n",
      "        0.5201, 0.3593, 0.6202, 0.0876, 0.5566, 0.8535, 0.0599])\n",
      "tensor([[0.8527, 0.7824, 0.4195, 0.9837, 0.0631, 0.4299, 0.9648, 0.8929],\n",
      "        [0.6023, 0.5201, 0.3593, 0.6202, 0.0876, 0.5566, 0.8535, 0.0599]])\n",
      "torch.Size([2, 8])\n"
     ]
    }
   ],
   "source": [
    "x=torch.rand(4,4)\n",
    "print(x)\n",
    "y=x.view(16)\n",
    "print(y)# give 1x16 tensor\n",
    "a=x.view(-1,8)\n",
    "print(a) ## gives 2x8 tensor\n",
    "print(a.size())"
   ]
  },
  {
   "cell_type": "code",
   "execution_count": 19,
   "id": "81bf6085",
   "metadata": {},
   "outputs": [
    {
     "name": "stdout",
     "output_type": "stream",
     "text": [
      "No cuda avilable\n"
     ]
    }
   ],
   "source": [
    "if torch.cuda.is_available():\n",
    "    device=torch.device('cuda')\n",
    "    x=torch.oness(5,device=device)\n",
    "    y=torch.ones(5)\n",
    "    y=y.to(device)\n",
    "    z=x+y\n",
    "    z= z.to('cpu')  ## this will bring our tensor back to cpu\n",
    "else:\n",
    "    print('No cuda avilable')"
   ]
  },
  {
   "cell_type": "markdown",
   "id": "64677df6",
   "metadata": {},
   "source": [
    "### we can't convert gpu tensor back to numpy"
   ]
  },
  {
   "cell_type": "code",
   "execution_count": null,
   "id": "a7afbece",
   "metadata": {},
   "outputs": [],
   "source": []
  }
 ],
 "metadata": {
  "kernelspec": {
   "display_name": "Python 3 (ipykernel)",
   "language": "python",
   "name": "python3"
  },
  "language_info": {
   "codemirror_mode": {
    "name": "ipython",
    "version": 3
   },
   "file_extension": ".py",
   "mimetype": "text/x-python",
   "name": "python",
   "nbconvert_exporter": "python",
   "pygments_lexer": "ipython3",
   "version": "3.11.3"
  }
 },
 "nbformat": 4,
 "nbformat_minor": 5
}
